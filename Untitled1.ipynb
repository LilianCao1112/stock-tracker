{
 "cells": [
  {
   "cell_type": "code",
   "execution_count": 1,
   "metadata": {},
   "outputs": [],
   "source": [
    "from datetime import date, timedelta\n",
    "from typing import List\n",
    "import pandas as pd\n",
    "\n",
    "def find_fridays_between(start: date, end: date) -> List[date]:\n",
    "    total_days: int = (end - start).days + 1\n",
    "    friday: int = 4\n",
    "    all_days = [start + timedelta(days=day) for day in range(total_days)]\n",
    "    return [day for day in all_days if day.weekday() is friday]\n",
    "\n",
    "\n",
    "date_start: date = date(2010, 1, 1)\n",
    "date_end: date = date(2021, 12, 31)\n",
    "fridays = find_fridays_between(date_start, date_end)"
   ]
  },
  {
   "cell_type": "code",
   "execution_count": 2,
   "metadata": {},
   "outputs": [],
   "source": [
    "fridays = pd.to_datetime(fridays, format='%Y-%m-%d')"
   ]
  },
  {
   "cell_type": "code",
   "execution_count": 3,
   "metadata": {},
   "outputs": [
    {
     "data": {
      "text/plain": [
       "DatetimeIndex(['2010-01-01', '2010-01-08', '2010-01-15', '2010-01-22',\n",
       "               '2010-01-29', '2010-02-05', '2010-02-12', '2010-02-19',\n",
       "               '2010-02-26', '2010-03-05',\n",
       "               ...\n",
       "               '2021-10-29', '2021-11-05', '2021-11-12', '2021-11-19',\n",
       "               '2021-11-26', '2021-12-03', '2021-12-10', '2021-12-17',\n",
       "               '2021-12-24', '2021-12-31'],\n",
       "              dtype='datetime64[ns]', length=627, freq=None)"
      ]
     },
     "execution_count": 3,
     "metadata": {},
     "output_type": "execute_result"
    }
   ],
   "source": [
    "fridays"
   ]
  },
  {
   "cell_type": "code",
   "execution_count": 4,
   "metadata": {},
   "outputs": [],
   "source": [
    "thirdFridays = pd.date_range('2010-01-01', '2022-12-31', freq = 'WOM-3FRI')"
   ]
  },
  {
   "cell_type": "code",
   "execution_count": 5,
   "metadata": {},
   "outputs": [
    {
     "data": {
      "text/plain": [
       "DatetimeIndex(['2010-01-15', '2010-02-19', '2010-03-19', '2010-04-16',\n",
       "               '2010-05-21', '2010-06-18', '2010-07-16', '2010-08-20',\n",
       "               '2010-09-17', '2010-10-15',\n",
       "               ...\n",
       "               '2022-03-18', '2022-04-15', '2022-05-20', '2022-06-17',\n",
       "               '2022-07-15', '2022-08-19', '2022-09-16', '2022-10-21',\n",
       "               '2022-11-18', '2022-12-16'],\n",
       "              dtype='datetime64[ns]', length=156, freq='WOM-3FRI')"
      ]
     },
     "execution_count": 5,
     "metadata": {},
     "output_type": "execute_result"
    }
   ],
   "source": [
    "thirdFridays "
   ]
  },
  {
   "cell_type": "code",
   "execution_count": 6,
   "metadata": {},
   "outputs": [],
   "source": [
    "midOfTheYear = pd.date_range('2010-06-01', '2022-12-31',  freq = '12M')"
   ]
  },
  {
   "cell_type": "code",
   "execution_count": 7,
   "metadata": {},
   "outputs": [
    {
     "data": {
      "text/plain": [
       "DatetimeIndex(['2010-06-30', '2011-06-30', '2012-06-30', '2013-06-30',\n",
       "               '2014-06-30', '2015-06-30', '2016-06-30', '2017-06-30',\n",
       "               '2018-06-30', '2019-06-30', '2020-06-30', '2021-06-30',\n",
       "               '2022-06-30'],\n",
       "              dtype='datetime64[ns]', freq='12M')"
      ]
     },
     "execution_count": 7,
     "metadata": {},
     "output_type": "execute_result"
    }
   ],
   "source": [
    "midOfTheYear"
   ]
  },
  {
   "cell_type": "code",
   "execution_count": null,
   "metadata": {},
   "outputs": [],
   "source": []
  }
 ],
 "metadata": {
  "kernelspec": {
   "display_name": "Python 3",
   "language": "python",
   "name": "python3"
  },
  "language_info": {
   "codemirror_mode": {
    "name": "ipython",
    "version": 3
   },
   "file_extension": ".py",
   "mimetype": "text/x-python",
   "name": "python",
   "nbconvert_exporter": "python",
   "pygments_lexer": "ipython3",
   "version": "3.8.3"
  }
 },
 "nbformat": 4,
 "nbformat_minor": 4
}
